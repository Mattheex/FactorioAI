{
 "cells": [
  {
   "cell_type": "markdown",
   "id": "c1a49b40",
   "metadata": {},
   "source": []
  },
  {
   "cell_type": "markdown",
   "id": "d092fd04",
   "metadata": {},
   "source": [
    "# CNN Factorio AI"
   ]
  },
  {
   "cell_type": "code",
   "execution_count": 1,
   "id": "dec9ecea",
   "metadata": {},
   "outputs": [
    {
     "name": "stdout",
     "output_type": "stream",
     "text": [
      "12.4\n",
      "CUDA is available. Training on GPU.\n"
     ]
    }
   ],
   "source": [
    "import torch\n",
    "\n",
    "print(torch.version.cuda)\n",
    "# Check if CUDA GPU is available\n",
    "if torch.cuda.is_available():\n",
    "    print(\"CUDA is available. Training on GPU.\")\n",
    "else:\n",
    "    print(\"CUDA not available. Training on CPU.\")\n"
   ]
  },
  {
   "cell_type": "markdown",
   "id": "68bce8ea",
   "metadata": {},
   "source": [
    "### Data processing"
   ]
  },
  {
   "cell_type": "code",
   "execution_count": 30,
   "id": "2f75d293",
   "metadata": {},
   "outputs": [
    {
     "name": "stderr",
     "output_type": "stream",
     "text": [
      "Parsing data: 100%|██████████| 28080/28080 [00:00<00:00, 265137.18it/s]"
     ]
    },
    {
     "name": "stdout",
     "output_type": "stream",
     "text": [
      "(5616, 4) (5616, 1)\n",
      "[13.] [0.]\n"
     ]
    },
    {
     "name": "stderr",
     "output_type": "stream",
     "text": [
      "\n"
     ]
    }
   ],
   "source": [
    "import numpy as np\n",
    "\n",
    "import game\n",
    "import importlib\n",
    "\n",
    "importlib.reload(game)\n",
    "\n",
    "from game import Board\n",
    "\n",
    "import json\n",
    "from tqdm import tqdm\n",
    "\n",
    "#map_sym_int = json.load(open(\"sample.json\", \"r\"))\n",
    "\n",
    "\n",
    "def count_lines(filename):\n",
    "    with open(filename, \"rb\") as f:  # binary mode for speed\n",
    "        return sum(1 for _ in f)\n",
    "\n",
    "filename = \"game.txt\"\n",
    "total_lines = count_lines(filename)\n",
    "\n",
    "# Parse the data\n",
    "def parse_data(file):\n",
    "    inputs = []\n",
    "    outputs = []\n",
    "    b = Board()\n",
    "\n",
    "    index_board = \"\"\n",
    "    with open(file,\"r\") as f:\n",
    "        for line in tqdm(f, total=total_lines, desc=\"Parsing data\"):\n",
    "            if line == \"\\n\":\n",
    "                line = line.strip()\n",
    "                #grid_array = str_to_array(index_board)\n",
    "                grid_array = index_board.strip().split(\"\\n\")\n",
    "                b.board_from_index(grid_array)\n",
    "                r = b.total_reward()\n",
    "                inputs.append(grid_array)\n",
    "                outputs.append(float(r))\n",
    "                b.board = b.reset()\n",
    "                index_board = \"\"\n",
    "            else:\n",
    "                index_board += line\n",
    "    return np.array(inputs), np.array(outputs).reshape(-1,1)\n",
    "\n",
    "X, y = parse_data(filename)\n",
    "print(X.shape, y.shape)\n",
    "print(max(y), min(y))"
   ]
  },
  {
   "cell_type": "code",
   "execution_count": 31,
   "id": "336cfcb8",
   "metadata": {},
   "outputs": [
    {
     "name": "stdout",
     "output_type": "stream",
     "text": [
      "0\n",
      "Co B> Co Co \n",
      "Co Co Co Co \n",
      "Co Co Co Co \n",
      "Co Co Co Co \n",
      "\n",
      "0\n"
     ]
    }
   ],
   "source": [
    "import entities\n",
    "\n",
    "\n",
    "importlib.reload(game)\n",
    "importlib.reload(entities)\n",
    "from game import Board\n",
    "\n",
    "idx_x = np.where(y == min(y))[0][0]\n",
    "b = Board()\n",
    "b.board_from_index(X[idx_x])\n",
    "print(idx_x)\n",
    "print(b)\n",
    "print(b.total_reward())"
   ]
  },
  {
   "cell_type": "code",
   "execution_count": 86,
   "id": "acce58ea",
   "metadata": {},
   "outputs": [
    {
     "name": "stdout",
     "output_type": "stream",
     "text": [
      "977 34782\n"
     ]
    }
   ],
   "source": [
    "print(len(y[y > 0.0]), len(y[y < -2.0]))"
   ]
  },
  {
   "cell_type": "code",
   "execution_count": 32,
   "id": "14e47963",
   "metadata": {},
   "outputs": [
    {
     "data": {
      "text/plain": [
       "(array([1.908e+03, 0.000e+00, 2.000e+00, 0.000e+00, 0.000e+00, 1.900e+01,\n",
       "        0.000e+00, 0.000e+00, 0.000e+00, 0.000e+00, 0.000e+00, 9.800e+02,\n",
       "        0.000e+00, 0.000e+00, 7.000e+00, 0.000e+00, 0.000e+00, 1.300e+01,\n",
       "        0.000e+00, 1.000e+01, 1.000e+00, 0.000e+00, 3.000e+00, 9.730e+02,\n",
       "        0.000e+00, 0.000e+00, 0.000e+00, 0.000e+00, 3.900e+01, 0.000e+00,\n",
       "        0.000e+00, 3.000e+00, 0.000e+00, 4.000e+00, 6.370e+02, 0.000e+00,\n",
       "        0.000e+00, 0.000e+00, 0.000e+00, 0.000e+00, 4.700e+01, 0.000e+00,\n",
       "        0.000e+00, 6.000e+00, 0.000e+00, 5.000e+00, 3.270e+02, 0.000e+00,\n",
       "        0.000e+00, 0.000e+00, 0.000e+00, 1.300e+01, 0.000e+00, 0.000e+00,\n",
       "        0.000e+00, 0.000e+00, 0.000e+00, 1.670e+02, 0.000e+00, 0.000e+00,\n",
       "        0.000e+00, 0.000e+00, 0.000e+00, 0.000e+00, 0.000e+00, 0.000e+00,\n",
       "        0.000e+00, 0.000e+00, 0.000e+00, 1.430e+02, 0.000e+00, 0.000e+00,\n",
       "        0.000e+00, 0.000e+00, 0.000e+00, 0.000e+00, 0.000e+00, 0.000e+00,\n",
       "        0.000e+00, 0.000e+00, 1.500e+02, 0.000e+00, 0.000e+00, 0.000e+00,\n",
       "        0.000e+00, 0.000e+00, 2.000e+00, 0.000e+00, 0.000e+00, 0.000e+00,\n",
       "        0.000e+00, 0.000e+00, 8.500e+01, 0.000e+00, 0.000e+00, 0.000e+00,\n",
       "        0.000e+00, 0.000e+00, 9.000e+00, 0.000e+00, 0.000e+00, 0.000e+00,\n",
       "        0.000e+00, 9.000e+00, 0.000e+00, 0.000e+00, 0.000e+00, 0.000e+00,\n",
       "        0.000e+00, 6.000e+00, 0.000e+00, 0.000e+00, 0.000e+00, 0.000e+00,\n",
       "        0.000e+00, 1.000e+01, 0.000e+00, 0.000e+00, 0.000e+00, 0.000e+00,\n",
       "        0.000e+00, 0.000e+00, 0.000e+00, 0.000e+00, 0.000e+00, 0.000e+00,\n",
       "        5.000e+00, 0.000e+00, 0.000e+00, 0.000e+00, 0.000e+00, 0.000e+00,\n",
       "        0.000e+00, 0.000e+00, 0.000e+00, 0.000e+00, 0.000e+00, 0.000e+00,\n",
       "        2.800e+01, 0.000e+00, 0.000e+00, 0.000e+00, 0.000e+00, 0.000e+00,\n",
       "        0.000e+00, 0.000e+00, 0.000e+00, 0.000e+00, 0.000e+00, 5.000e+00]),\n",
       " array([ 0.        ,  0.08666667,  0.17333333,  0.26      ,  0.34666667,\n",
       "         0.43333333,  0.52      ,  0.60666667,  0.69333333,  0.78      ,\n",
       "         0.86666667,  0.95333333,  1.04      ,  1.12666667,  1.21333333,\n",
       "         1.3       ,  1.38666667,  1.47333333,  1.56      ,  1.64666667,\n",
       "         1.73333333,  1.82      ,  1.90666667,  1.99333333,  2.08      ,\n",
       "         2.16666667,  2.25333333,  2.34      ,  2.42666667,  2.51333333,\n",
       "         2.6       ,  2.68666667,  2.77333333,  2.86      ,  2.94666667,\n",
       "         3.03333333,  3.12      ,  3.20666667,  3.29333333,  3.38      ,\n",
       "         3.46666667,  3.55333333,  3.64      ,  3.72666667,  3.81333333,\n",
       "         3.9       ,  3.98666667,  4.07333333,  4.16      ,  4.24666667,\n",
       "         4.33333333,  4.42      ,  4.50666667,  4.59333333,  4.68      ,\n",
       "         4.76666667,  4.85333333,  4.94      ,  5.02666667,  5.11333333,\n",
       "         5.2       ,  5.28666667,  5.37333333,  5.46      ,  5.54666667,\n",
       "         5.63333333,  5.72      ,  5.80666667,  5.89333333,  5.98      ,\n",
       "         6.06666667,  6.15333333,  6.24      ,  6.32666667,  6.41333333,\n",
       "         6.5       ,  6.58666667,  6.67333333,  6.76      ,  6.84666667,\n",
       "         6.93333333,  7.02      ,  7.10666667,  7.19333333,  7.28      ,\n",
       "         7.36666667,  7.45333333,  7.54      ,  7.62666667,  7.71333333,\n",
       "         7.8       ,  7.88666667,  7.97333333,  8.06      ,  8.14666667,\n",
       "         8.23333333,  8.32      ,  8.40666667,  8.49333333,  8.58      ,\n",
       "         8.66666667,  8.75333333,  8.84      ,  8.92666667,  9.01333333,\n",
       "         9.1       ,  9.18666667,  9.27333333,  9.36      ,  9.44666667,\n",
       "         9.53333333,  9.62      ,  9.70666667,  9.79333333,  9.88      ,\n",
       "         9.96666667, 10.05333333, 10.14      , 10.22666667, 10.31333333,\n",
       "        10.4       , 10.48666667, 10.57333333, 10.66      , 10.74666667,\n",
       "        10.83333333, 10.92      , 11.00666667, 11.09333333, 11.18      ,\n",
       "        11.26666667, 11.35333333, 11.44      , 11.52666667, 11.61333333,\n",
       "        11.7       , 11.78666667, 11.87333333, 11.96      , 12.04666667,\n",
       "        12.13333333, 12.22      , 12.30666667, 12.39333333, 12.48      ,\n",
       "        12.56666667, 12.65333333, 12.74      , 12.82666667, 12.91333333,\n",
       "        13.        ]),\n",
       " <BarContainer object of 150 artists>)"
      ]
     },
     "execution_count": 32,
     "metadata": {},
     "output_type": "execute_result"
    },
    {
     "data": {
      "image/png": "[encoded data removed]",
      "text/plain": [
       "<Figure size 640x480 with 1 Axes>"
      ]
     },
     "metadata": {},
     "output_type": "display_data"
    }
   ],
   "source": [
    "import matplotlib.pyplot as plt\n",
    "\n",
    "plt.hist(y, bins=150, color='blue')"
   ]
  },
  {
   "cell_type": "code",
   "execution_count": 33,
   "id": "849e5585",
   "metadata": {},
   "outputs": [
    {
     "name": "stdout",
     "output_type": "stream",
     "text": [
      "(5616, 4, 4)\n",
      "(4492, 16) (4492, 1) (1124, 16) (1124, 1)\n"
     ]
    }
   ],
   "source": [
    "from sklearn.model_selection import train_test_split\n",
    "from sklearn.preprocessing import MinMaxScaler\n",
    "from var import CELL_NUMBER\n",
    "\n",
    "scaler_X = MinMaxScaler()\n",
    "scaler_y = MinMaxScaler()\n",
    "X_split = [list(map(int, x.split())) for x in X.flatten()]\n",
    "X_split = np.array(X_split).reshape(X.shape[0], CELL_NUMBER, CELL_NUMBER)\n",
    "print(X_split.shape)\n",
    "X_flat = X_split.reshape((X.shape[0], -1))\n",
    "\n",
    "X_train , X_test, y_train,y_test = train_test_split(X_flat, y,test_size=0.2, random_state=42)\n",
    "\n",
    "print(X_train.shape, y_train.shape, X_test.shape, y_test.shape)\n",
    "\n",
    "X_train_scaled = scaler_X.fit_transform(X_train).reshape(-1, CELL_NUMBER, CELL_NUMBER)\n",
    "y_train_scaled = scaler_y.fit_transform(y_train)\n",
    "\n",
    "X_test_scaled = scaler_X.transform(X_test).reshape(-1, CELL_NUMBER, CELL_NUMBER)\n",
    "y_test_scaled = scaler_y.transform(y_test)"
   ]
  },
  {
   "cell_type": "code",
   "execution_count": 34,
   "id": "91f8ff78",
   "metadata": {},
   "outputs": [],
   "source": [
    "from torch.utils.data import Dataset, DataLoader\n",
    "\n",
    "class GridRewardDataset(Dataset):\n",
    "    def __init__(self, X, y):\n",
    "        self.X = torch.tensor(X, dtype=torch.float32).unsqueeze(1)  # shape: (N, 1, 5, 5)\n",
    "        self.y = torch.tensor(y, dtype=torch.float32)\n",
    "\n",
    "    def __len__(self):\n",
    "        return len(self.X)\n",
    "\n",
    "    def __getitem__(self, idx):\n",
    "        return self.X[idx], self.y[idx]\n",
    "\n",
    "# DataLoader\n",
    "ds_train = GridRewardDataset(X_train_scaled, y_train_scaled)\n",
    "ds_test = GridRewardDataset(X_test_scaled, y_test_scaled)\n",
    "\n",
    "train = DataLoader(ds_train, batch_size=32, shuffle=True,num_workers=27)\n",
    "test = DataLoader(ds_test, batch_size=32,num_workers=27)"
   ]
  },
  {
   "cell_type": "markdown",
   "id": "c8974200",
   "metadata": {},
   "source": [
    "### Lightning Module"
   ]
  },
  {
   "cell_type": "code",
   "execution_count": 35,
   "id": "0dbb2b6a",
   "metadata": {},
   "outputs": [
    {
     "name": "stderr",
     "output_type": "stream",
     "text": [
      "GPU available: True (cuda), used: True\n",
      "TPU available: False, using: 0 TPU cores\n",
      "HPU available: False, using: 0 HPUs\n",
      "LOCAL_RANK: 0 - CUDA_VISIBLE_DEVICES: [0]\n",
      "\n",
      "  | Name    | Type       | Params | Mode \n",
      "-----------------------------------------------\n",
      "0 | model   | Sequential | 52.0 K | train\n",
      "1 | loss_fn | MSELoss    | 0      | train\n",
      "-----------------------------------------------\n",
      "52.0 K    Trainable params\n",
      "0         Non-trainable params\n",
      "52.0 K    Total params\n",
      "0.208     Total estimated model params size (MB)\n",
      "14        Modules in train mode\n",
      "0         Modules in eval mode\n"
     ]
    },
    {
     "name": "stdout",
     "output_type": "stream",
     "text": [
      "Epoch 0: 100%|██████████| 141/141 [00:02<00:00, 70.41it/s, v_num=1, val_loss=0.0093, train_loss=0.0188]"
     ]
    },
    {
     "name": "stderr",
     "output_type": "stream",
     "text": [
      "Metric val_loss improved. New best score: 0.009\n",
      "Epoch 0, global step 141: 'val_loss' reached 0.00930 (best 0.00930), saving model to '/home/matthieu/Documents/FactorioAI/GNN/lightning_logs/version_1/checkpoints/best-checkpoint.ckpt' as top 1\n"
     ]
    },
    {
     "name": "stdout",
     "output_type": "stream",
     "text": [
      "Epoch 1: 100%|██████████| 141/141 [00:02<00:00, 50.66it/s, v_num=1, val_loss=0.00867, train_loss=0.00998]"
     ]
    },
    {
     "name": "stderr",
     "output_type": "stream",
     "text": [
      "Metric val_loss improved by 0.001 >= min_delta = 0.0. New best score: 0.009\n",
      "Epoch 1, global step 282: 'val_loss' reached 0.00867 (best 0.00867), saving model to '/home/matthieu/Documents/FactorioAI/GNN/lightning_logs/version_1/checkpoints/best-checkpoint.ckpt' as top 1\n"
     ]
    },
    {
     "name": "stdout",
     "output_type": "stream",
     "text": [
      "Epoch 2: 100%|██████████| 141/141 [00:02<00:00, 52.68it/s, v_num=1, val_loss=0.006, train_loss=0.00834]  "
     ]
    },
    {
     "name": "stderr",
     "output_type": "stream",
     "text": [
      "Metric val_loss improved by 0.003 >= min_delta = 0.0. New best score: 0.006\n",
      "Epoch 2, global step 423: 'val_loss' reached 0.00600 (best 0.00600), saving model to '/home/matthieu/Documents/FactorioAI/GNN/lightning_logs/version_1/checkpoints/best-checkpoint.ckpt' as top 1\n"
     ]
    },
    {
     "name": "stdout",
     "output_type": "stream",
     "text": [
      "Epoch 3: 100%|██████████| 141/141 [00:02<00:00, 52.14it/s, v_num=1, val_loss=0.00559, train_loss=0.00705]"
     ]
    },
    {
     "name": "stderr",
     "output_type": "stream",
     "text": [
      "Metric val_loss improved by 0.000 >= min_delta = 0.0. New best score: 0.006\n",
      "Epoch 3, global step 564: 'val_loss' reached 0.00559 (best 0.00559), saving model to '/home/matthieu/Documents/FactorioAI/GNN/lightning_logs/version_1/checkpoints/best-checkpoint.ckpt' as top 1\n"
     ]
    },
    {
     "name": "stdout",
     "output_type": "stream",
     "text": [
      "Epoch 4: 100%|██████████| 141/141 [00:02<00:00, 51.40it/s, v_num=1, val_loss=0.00573, train_loss=0.00622]"
     ]
    },
    {
     "name": "stderr",
     "output_type": "stream",
     "text": [
      "Epoch 4, global step 705: 'val_loss' was not in top 1\n"
     ]
    },
    {
     "name": "stdout",
     "output_type": "stream",
     "text": [
      "Epoch 5: 100%|██████████| 141/141 [00:02<00:00, 52.51it/s, v_num=1, val_loss=0.00512, train_loss=0.00563]"
     ]
    },
    {
     "name": "stderr",
     "output_type": "stream",
     "text": [
      "Metric val_loss improved by 0.000 >= min_delta = 0.0. New best score: 0.005\n",
      "Epoch 5, global step 846: 'val_loss' reached 0.00512 (best 0.00512), saving model to '/home/matthieu/Documents/FactorioAI/GNN/lightning_logs/version_1/checkpoints/best-checkpoint.ckpt' as top 1\n"
     ]
    },
    {
     "name": "stdout",
     "output_type": "stream",
     "text": [
      "Epoch 6: 100%|██████████| 141/141 [00:02<00:00, 50.49it/s, v_num=1, val_loss=0.00396, train_loss=0.0052] "
     ]
    },
    {
     "name": "stderr",
     "output_type": "stream",
     "text": [
      "Metric val_loss improved by 0.001 >= min_delta = 0.0. New best score: 0.004\n",
      "Epoch 6, global step 987: 'val_loss' reached 0.00396 (best 0.00396), saving model to '/home/matthieu/Documents/FactorioAI/GNN/lightning_logs/version_1/checkpoints/best-checkpoint.ckpt' as top 1\n"
     ]
    },
    {
     "name": "stdout",
     "output_type": "stream",
     "text": [
      "Epoch 7: 100%|██████████| 141/141 [00:02<00:00, 50.59it/s, v_num=1, val_loss=0.00426, train_loss=0.00477]"
     ]
    },
    {
     "name": "stderr",
     "output_type": "stream",
     "text": [
      "Epoch 7, global step 1128: 'val_loss' was not in top 1\n"
     ]
    },
    {
     "name": "stdout",
     "output_type": "stream",
     "text": [
      "Epoch 8: 100%|██████████| 141/141 [00:02<00:00, 54.37it/s, v_num=1, val_loss=0.00466, train_loss=0.00482]"
     ]
    },
    {
     "name": "stderr",
     "output_type": "stream",
     "text": [
      "Epoch 8, global step 1269: 'val_loss' was not in top 1\n"
     ]
    },
    {
     "name": "stdout",
     "output_type": "stream",
     "text": [
      "Epoch 9: 100%|██████████| 141/141 [00:02<00:00, 53.01it/s, v_num=1, val_loss=0.00402, train_loss=0.00426]"
     ]
    },
    {
     "name": "stderr",
     "output_type": "stream",
     "text": [
      "Epoch 9, global step 1410: 'val_loss' was not in top 1\n"
     ]
    },
    {
     "name": "stdout",
     "output_type": "stream",
     "text": [
      "Epoch 10: 100%|██████████| 141/141 [00:02<00:00, 49.82it/s, v_num=1, val_loss=0.00367, train_loss=0.00403]"
     ]
    },
    {
     "name": "stderr",
     "output_type": "stream",
     "text": [
      "Metric val_loss improved by 0.000 >= min_delta = 0.0. New best score: 0.004\n",
      "Epoch 10, global step 1551: 'val_loss' reached 0.00367 (best 0.00367), saving model to '/home/matthieu/Documents/FactorioAI/GNN/lightning_logs/version_1/checkpoints/best-checkpoint.ckpt' as top 1\n"
     ]
    },
    {
     "name": "stdout",
     "output_type": "stream",
     "text": [
      "Epoch 11: 100%|██████████| 141/141 [00:02<00:00, 51.10it/s, v_num=1, val_loss=0.00329, train_loss=0.00353]"
     ]
    },
    {
     "name": "stderr",
     "output_type": "stream",
     "text": [
      "Metric val_loss improved by 0.000 >= min_delta = 0.0. New best score: 0.003\n",
      "Epoch 11, global step 1692: 'val_loss' reached 0.00329 (best 0.00329), saving model to '/home/matthieu/Documents/FactorioAI/GNN/lightning_logs/version_1/checkpoints/best-checkpoint.ckpt' as top 1\n"
     ]
    },
    {
     "name": "stdout",
     "output_type": "stream",
     "text": [
      "Epoch 12: 100%|██████████| 141/141 [00:02<00:00, 51.71it/s, v_num=1, val_loss=0.00333, train_loss=0.00335]"
     ]
    },
    {
     "name": "stderr",
     "output_type": "stream",
     "text": [
      "Epoch 12, global step 1833: 'val_loss' was not in top 1\n"
     ]
    },
    {
     "name": "stdout",
     "output_type": "stream",
     "text": [
      "Epoch 13: 100%|██████████| 141/141 [00:02<00:00, 50.95it/s, v_num=1, val_loss=0.00353, train_loss=0.00331]"
     ]
    },
    {
     "name": "stderr",
     "output_type": "stream",
     "text": [
      "Epoch 13, global step 1974: 'val_loss' was not in top 1\n"
     ]
    },
    {
     "name": "stdout",
     "output_type": "stream",
     "text": [
      "Epoch 14: 100%|██████████| 141/141 [00:02<00:00, 51.44it/s, v_num=1, val_loss=0.00301, train_loss=0.00306]"
     ]
    },
    {
     "name": "stderr",
     "output_type": "stream",
     "text": [
      "Metric val_loss improved by 0.000 >= min_delta = 0.0. New best score: 0.003\n",
      "Epoch 14, global step 2115: 'val_loss' reached 0.00301 (best 0.00301), saving model to '/home/matthieu/Documents/FactorioAI/GNN/lightning_logs/version_1/checkpoints/best-checkpoint.ckpt' as top 1\n"
     ]
    },
    {
     "name": "stdout",
     "output_type": "stream",
     "text": [
      "Epoch 15: 100%|██████████| 141/141 [00:02<00:00, 50.66it/s, v_num=1, val_loss=0.00317, train_loss=0.00333]"
     ]
    },
    {
     "name": "stderr",
     "output_type": "stream",
     "text": [
      "Epoch 15, global step 2256: 'val_loss' was not in top 1\n"
     ]
    },
    {
     "name": "stdout",
     "output_type": "stream",
     "text": [
      "Epoch 16: 100%|██████████| 141/141 [00:02<00:00, 52.30it/s, v_num=1, val_loss=0.00266, train_loss=0.00282]"
     ]
    },
    {
     "name": "stderr",
     "output_type": "stream",
     "text": [
      "Metric val_loss improved by 0.000 >= min_delta = 0.0. New best score: 0.003\n",
      "Epoch 16, global step 2397: 'val_loss' reached 0.00266 (best 0.00266), saving model to '/home/matthieu/Documents/FactorioAI/GNN/lightning_logs/version_1/checkpoints/best-checkpoint.ckpt' as top 1\n"
     ]
    },
    {
     "name": "stdout",
     "output_type": "stream",
     "text": [
      "Epoch 17: 100%|██████████| 141/141 [00:02<00:00, 50.48it/s, v_num=1, val_loss=0.00256, train_loss=0.00279]"
     ]
    },
    {
     "name": "stderr",
     "output_type": "stream",
     "text": [
      "Metric val_loss improved by 0.000 >= min_delta = 0.0. New best score: 0.003\n",
      "Epoch 17, global step 2538: 'val_loss' reached 0.00256 (best 0.00256), saving model to '/home/matthieu/Documents/FactorioAI/GNN/lightning_logs/version_1/checkpoints/best-checkpoint.ckpt' as top 1\n"
     ]
    },
    {
     "name": "stdout",
     "output_type": "stream",
     "text": [
      "Epoch 18: 100%|██████████| 141/141 [00:02<00:00, 51.02it/s, v_num=1, val_loss=0.00276, train_loss=0.00275]"
     ]
    },
    {
     "name": "stderr",
     "output_type": "stream",
     "text": [
      "Epoch 18, global step 2679: 'val_loss' was not in top 1\n"
     ]
    },
    {
     "name": "stdout",
     "output_type": "stream",
     "text": [
      "Epoch 19: 100%|██████████| 141/141 [00:02<00:00, 50.23it/s, v_num=1, val_loss=0.00318, train_loss=0.00254]"
     ]
    },
    {
     "name": "stderr",
     "output_type": "stream",
     "text": [
      "Epoch 19, global step 2820: 'val_loss' was not in top 1\n"
     ]
    },
    {
     "name": "stdout",
     "output_type": "stream",
     "text": [
      "Epoch 20: 100%|██████████| 141/141 [00:02<00:00, 51.87it/s, v_num=1, val_loss=0.00222, train_loss=0.0025] "
     ]
    },
    {
     "name": "stderr",
     "output_type": "stream",
     "text": [
      "Metric val_loss improved by 0.000 >= min_delta = 0.0. New best score: 0.002\n",
      "Epoch 20, global step 2961: 'val_loss' reached 0.00222 (best 0.00222), saving model to '/home/matthieu/Documents/FactorioAI/GNN/lightning_logs/version_1/checkpoints/best-checkpoint.ckpt' as top 1\n"
     ]
    },
    {
     "name": "stdout",
     "output_type": "stream",
     "text": [
      "Epoch 21: 100%|██████████| 141/141 [00:02<00:00, 51.06it/s, v_num=1, val_loss=0.0024, train_loss=0.00253]"
     ]
    },
    {
     "name": "stderr",
     "output_type": "stream",
     "text": [
      "Epoch 21, global step 3102: 'val_loss' was not in top 1\n"
     ]
    },
    {
     "name": "stdout",
     "output_type": "stream",
     "text": [
      "Epoch 22: 100%|██████████| 141/141 [00:02<00:00, 49.94it/s, v_num=1, val_loss=0.00231, train_loss=0.00238]"
     ]
    },
    {
     "name": "stderr",
     "output_type": "stream",
     "text": [
      "Epoch 22, global step 3243: 'val_loss' was not in top 1\n"
     ]
    },
    {
     "name": "stdout",
     "output_type": "stream",
     "text": [
      "Epoch 23: 100%|██████████| 141/141 [00:02<00:00, 51.27it/s, v_num=1, val_loss=0.003, train_loss=0.00226]  "
     ]
    },
    {
     "name": "stderr",
     "output_type": "stream",
     "text": [
      "Epoch 23, global step 3384: 'val_loss' was not in top 1\n"
     ]
    },
    {
     "name": "stdout",
     "output_type": "stream",
     "text": [
      "Epoch 24: 100%|██████████| 141/141 [00:02<00:00, 51.83it/s, v_num=1, val_loss=0.00219, train_loss=0.00245]"
     ]
    },
    {
     "name": "stderr",
     "output_type": "stream",
     "text": [
      "Metric val_loss improved by 0.000 >= min_delta = 0.0. New best score: 0.002\n",
      "Epoch 24, global step 3525: 'val_loss' reached 0.00219 (best 0.00219), saving model to '/home/matthieu/Documents/FactorioAI/GNN/lightning_logs/version_1/checkpoints/best-checkpoint.ckpt' as top 1\n"
     ]
    },
    {
     "name": "stdout",
     "output_type": "stream",
     "text": [
      "Epoch 25: 100%|██████████| 141/141 [00:02<00:00, 50.43it/s, v_num=1, val_loss=0.00247, train_loss=0.00231]"
     ]
    },
    {
     "name": "stderr",
     "output_type": "stream",
     "text": [
      "Epoch 25, global step 3666: 'val_loss' was not in top 1\n"
     ]
    },
    {
     "name": "stdout",
     "output_type": "stream",
     "text": [
      "Epoch 26: 100%|██████████| 141/141 [00:02<00:00, 49.77it/s, v_num=1, val_loss=0.00207, train_loss=0.00212]"
     ]
    },
    {
     "name": "stderr",
     "output_type": "stream",
     "text": [
      "Metric val_loss improved by 0.000 >= min_delta = 0.0. New best score: 0.002\n",
      "Epoch 26, global step 3807: 'val_loss' reached 0.00207 (best 0.00207), saving model to '/home/matthieu/Documents/FactorioAI/GNN/lightning_logs/version_1/checkpoints/best-checkpoint.ckpt' as top 1\n"
     ]
    },
    {
     "name": "stdout",
     "output_type": "stream",
     "text": [
      "Epoch 27: 100%|██████████| 141/141 [00:02<00:00, 51.23it/s, v_num=1, val_loss=0.00254, train_loss=0.00211]"
     ]
    },
    {
     "name": "stderr",
     "output_type": "stream",
     "text": [
      "Epoch 27, global step 3948: 'val_loss' was not in top 1\n"
     ]
    },
    {
     "name": "stdout",
     "output_type": "stream",
     "text": [
      "Epoch 28: 100%|██████████| 141/141 [00:02<00:00, 52.58it/s, v_num=1, val_loss=0.00213, train_loss=0.002]  "
     ]
    },
    {
     "name": "stderr",
     "output_type": "stream",
     "text": [
      "Epoch 28, global step 4089: 'val_loss' was not in top 1\n"
     ]
    },
    {
     "name": "stdout",
     "output_type": "stream",
     "text": [
      "Epoch 29: 100%|██████████| 141/141 [00:02<00:00, 51.10it/s, v_num=1, val_loss=0.00196, train_loss=0.00201]"
     ]
    },
    {
     "name": "stderr",
     "output_type": "stream",
     "text": [
      "Metric val_loss improved by 0.000 >= min_delta = 0.0. New best score: 0.002\n",
      "Epoch 29, global step 4230: 'val_loss' reached 0.00196 (best 0.00196), saving model to '/home/matthieu/Documents/FactorioAI/GNN/lightning_logs/version_1/checkpoints/best-checkpoint.ckpt' as top 1\n"
     ]
    },
    {
     "name": "stdout",
     "output_type": "stream",
     "text": [
      "Epoch 30: 100%|██████████| 141/141 [00:02<00:00, 51.71it/s, v_num=1, val_loss=0.00187, train_loss=0.00205]"
     ]
    },
    {
     "name": "stderr",
     "output_type": "stream",
     "text": [
      "Metric val_loss improved by 0.000 >= min_delta = 0.0. New best score: 0.002\n",
      "Epoch 30, global step 4371: 'val_loss' reached 0.00187 (best 0.00187), saving model to '/home/matthieu/Documents/FactorioAI/GNN/lightning_logs/version_1/checkpoints/best-checkpoint.ckpt' as top 1\n"
     ]
    },
    {
     "name": "stdout",
     "output_type": "stream",
     "text": [
      "Epoch 31: 100%|██████████| 141/141 [00:02<00:00, 49.26it/s, v_num=1, val_loss=0.00233, train_loss=0.00179]"
     ]
    },
    {
     "name": "stderr",
     "output_type": "stream",
     "text": [
      "Epoch 31, global step 4512: 'val_loss' was not in top 1\n"
     ]
    },
    {
     "name": "stdout",
     "output_type": "stream",
     "text": [
      "Epoch 32: 100%|██████████| 141/141 [00:02<00:00, 52.18it/s, v_num=1, val_loss=0.00206, train_loss=0.00172]"
     ]
    },
    {
     "name": "stderr",
     "output_type": "stream",
     "text": [
      "Epoch 32, global step 4653: 'val_loss' was not in top 1\n"
     ]
    },
    {
     "name": "stdout",
     "output_type": "stream",
     "text": [
      "Epoch 33: 100%|██████████| 141/141 [00:02<00:00, 51.75it/s, v_num=1, val_loss=0.00199, train_loss=0.00199]"
     ]
    },
    {
     "name": "stderr",
     "output_type": "stream",
     "text": [
      "Epoch 33, global step 4794: 'val_loss' was not in top 1\n"
     ]
    },
    {
     "name": "stdout",
     "output_type": "stream",
     "text": [
      "Epoch 34: 100%|██████████| 141/141 [00:02<00:00, 51.24it/s, v_num=1, val_loss=0.00193, train_loss=0.00166]"
     ]
    },
    {
     "name": "stderr",
     "output_type": "stream",
     "text": [
      "Epoch 34, global step 4935: 'val_loss' was not in top 1\n"
     ]
    },
    {
     "name": "stdout",
     "output_type": "stream",
     "text": [
      "Epoch 35: 100%|██████████| 141/141 [00:02<00:00, 52.06it/s, v_num=1, val_loss=0.00202, train_loss=0.00176]"
     ]
    },
    {
     "name": "stderr",
     "output_type": "stream",
     "text": [
      "Monitored metric val_loss did not improve in the last 5 records. Best score: 0.002. Signaling Trainer to stop.\n",
      "Epoch 35, global step 5076: 'val_loss' was not in top 1\n"
     ]
    },
    {
     "name": "stdout",
     "output_type": "stream",
     "text": [
      "Epoch 35: 100%|██████████| 141/141 [00:02<00:00, 51.99it/s, v_num=1, val_loss=0.00202, train_loss=0.00176]\n"
     ]
    }
   ],
   "source": [
    "import torch.nn as nn\n",
    "import pytorch_lightning as pl\n",
    "from pytorch_lightning.callbacks import EarlyStopping\n",
    "from pytorch_lightning.callbacks import ModelCheckpoint\n",
    "\n",
    "\n",
    "#os.environ['CUDA_VISIBLE_DEVICES'] = '0'\n",
    "#os.environ['CUDA_LAUNCH_BLOCKING']='1'\n",
    "\n",
    "class RewardCNN(pl.LightningModule):\n",
    "    def __init__(self):\n",
    "        super().__init__()\n",
    "        self.model = nn.Sequential(\n",
    "            nn.Conv2d(1, 32, kernel_size=3, padding=1),   # (B, 32, 5, 5)\n",
    "    nn.ReLU(),\n",
    "    nn.BatchNorm2d(32),\n",
    "    nn.Conv2d(32, 64, kernel_size=3, padding=1),  # (B, 64, 5, 5)\n",
    "    nn.ReLU(),\n",
    "    nn.BatchNorm2d(64),\n",
    "    nn.AvgPool2d(kernel_size=2),                 # (B, 64, 2, 2)\n",
    "    nn.Dropout(0.25),\n",
    "    nn.Flatten(),                                # (B, 64*2*2)\n",
    "    nn.Linear(64 * 2 * 2, 128),\n",
    "    nn.ReLU(),\n",
    "    nn.Linear(128, 1)\n",
    "        )\n",
    "        self.loss_fn = nn.MSELoss()\n",
    "\n",
    "    def forward(self, x):\n",
    "        return self.model(x)\n",
    "\n",
    "    def training_step(self, batch, batch_idx):\n",
    "        x, y = batch\n",
    "        y_hat = self(x)\n",
    "        loss = self.loss_fn(y_hat, y)\n",
    "        self.log('train_loss', loss,on_step=False, on_epoch=True, prog_bar=True)\n",
    "        return loss\n",
    "    \n",
    "    def validation_step(self, batch, batch_idx):\n",
    "        x, y = batch\n",
    "        preds = self(x)\n",
    "        loss = self.loss_fn(preds, y)\n",
    "        self.log(\"val_loss\", loss, on_step=False, on_epoch=True, prog_bar=True)\n",
    "        return loss\n",
    "\n",
    "    def configure_optimizers(self):\n",
    "        return torch.optim.Adam(self.parameters(), lr=1e-3)\n",
    "\n",
    "checkpoint_callback = ModelCheckpoint(\n",
    "    monitor=\"val_loss\",          # metric to monitor\n",
    "    mode=\"min\",                  # minimize val_loss\n",
    "    save_top_k=1,                # save only the best\n",
    "    filename=\"best-checkpoint\", # optional name\n",
    "    verbose=True\n",
    ")\n",
    "\n",
    "\n",
    "early_stop_callback = EarlyStopping(\n",
    "    monitor=\"val_loss\",         # What to monitor\n",
    "    patience=5,                 # Stop after 3 epochs without improvement\n",
    "    verbose=True,\n",
    "    mode=\"min\"                  # Minimize the loss\n",
    ")\n",
    "\n",
    "model = RewardCNN()\n",
    "trainer = pl.Trainer(max_epochs=100, callbacks=[checkpoint_callback,early_stop_callback],log_every_n_steps=1)\n",
    "trainer.fit(model, train,test)"
   ]
  },
  {
   "cell_type": "code",
   "execution_count": 37,
   "id": "87799105",
   "metadata": {},
   "outputs": [
    {
     "name": "stdout",
     "output_type": "stream",
     "text": [
      "Mean error: 0.35771424\n",
      "Max error: 4.8012843\n",
      "Min error: 0.00071048737\n",
      "Std error: 0.46146357\n",
      "Median error: 0.21815129\n",
      "Std/mean error: 129.00342\n"
     ]
    },
    {
     "data": {
      "text/plain": [
       "(array([333., 186., 130., 110.,  85.,  67.,  52.,  46.,  24.,  18.,  19.,\n",
       "          8.,   5.,   4.,   7.,   6.,   2.,   3.,   2.,   3.,   2.,   0.,\n",
       "          0.,   1.,   1.,   1.,   1.,   0.,   1.,   0.,   0.,   0.,   1.,\n",
       "          1.,   0.,   0.,   0.,   0.,   1.,   0.,   0.,   1.,   0.,   1.,\n",
       "          0.,   0.,   0.,   1.,   0.,   1.]),\n",
       " array([7.10487366e-04, 9.67219621e-02, 1.92733437e-01, 2.88744926e-01,\n",
       "        3.84756386e-01, 4.80767846e-01, 5.76779366e-01, 6.72790825e-01,\n",
       "        7.68802285e-01, 8.64813745e-01, 9.60825205e-01, 1.05683672e+00,\n",
       "        1.15284824e+00, 1.24885964e+00, 1.34487116e+00, 1.44088256e+00,\n",
       "        1.53689408e+00, 1.63290560e+00, 1.72891700e+00, 1.82492852e+00,\n",
       "        1.92093992e+00, 2.01695156e+00, 2.11296296e+00, 2.20897436e+00,\n",
       "        2.30498600e+00, 2.40099740e+00, 2.49700880e+00, 2.59302020e+00,\n",
       "        2.68903184e+00, 2.78504324e+00, 2.88105464e+00, 2.97706628e+00,\n",
       "        3.07307768e+00, 3.16908908e+00, 3.26510072e+00, 3.36111212e+00,\n",
       "        3.45712352e+00, 3.55313516e+00, 3.64914656e+00, 3.74515796e+00,\n",
       "        3.84116936e+00, 3.93718100e+00, 4.03319263e+00, 4.12920380e+00,\n",
       "        4.22521544e+00, 4.32122707e+00, 4.41723824e+00, 4.51324987e+00,\n",
       "        4.60926151e+00, 4.70527267e+00, 4.80128431e+00]),\n",
       " <BarContainer object of 50 artists>)"
      ]
     },
     "execution_count": 37,
     "metadata": {},
     "output_type": "execute_result"
    },
    {
     "data": {
      "image/png": "[encoded data removed]",
      "text/plain": [
       "<Figure size 640x480 with 1 Axes>"
      ]
     },
     "metadata": {},
     "output_type": "display_data"
    }
   ],
   "source": [
    "model.eval()\n",
    "error = []\n",
    "with torch.no_grad():\n",
    "    for i, (x, y_true) in enumerate(test):\n",
    "        y_pred = model(x)\n",
    "        y_pred_denorm = scaler_y.inverse_transform(y_pred.cpu().numpy())\n",
    "        y_true_denorm = scaler_y.inverse_transform(y_true.cpu().numpy())\n",
    "        for yt, yp in zip(y_true_denorm, y_pred_denorm):\n",
    "            error.append(np.abs(yp - yt)[0])\n",
    "\n",
    "#print(error)\n",
    "print(\"Mean error:\", np.mean(error))\n",
    "print(\"Max error:\", np.max(error))\n",
    "print(\"Min error:\", np.min(error))\n",
    "print(\"Std error:\", np.std(error))\n",
    "print(\"Median error:\", np.median(error))\n",
    "print(\"Std/mean error:\", np.std(error) / np.mean(error) * 100)\n",
    "plt.hist(error, bins=50, color='blue')"
   ]
  }
 ],
 "metadata": {
  "kernelspec": {
   "display_name": "factorio",
   "language": "python",
   "name": "python3"
  },
  "language_info": {
   "codemirror_mode": {
    "name": "ipython",
    "version": 3
   },
   "file_extension": ".py",
   "mimetype": "text/x-python",
   "name": "python",
   "nbconvert_exporter": "python",
   "pygments_lexer": "ipython3",
   "version": "3.11.11"
  }
 },
 "nbformat": 4,
 "nbformat_minor": 5
}
